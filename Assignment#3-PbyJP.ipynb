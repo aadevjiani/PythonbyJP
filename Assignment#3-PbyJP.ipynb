{
 "cells": [
  {
   "cell_type": "code",
   "execution_count": 5,
   "id": "9bb9d667",
   "metadata": {},
   "outputs": [
    {
     "name": "stdout",
     "output_type": "stream",
     "text": [
      "TWinkle, twinkle, little star, \n",
      "\t How I wonder what you are! \n",
      "\t\t Up above the world so high, \n",
      "\t\t Like a diamond in the sky. \n",
      " TWinkle, twinkle, little star, \n",
      "\t How I wonder what you are!\n"
     ]
    }
   ],
   "source": [
    "# Question No. 1 : \n",
    "#     Write a Python program to print the following string in a specific format (see the \n",
    "# output). \n",
    "# Twinkle, twinkle, little star, \n",
    " \n",
    "# How I wonder what you are! \n",
    " \n",
    "# Up above the world so high, \n",
    "# Like a diamond in the sky. \n",
    " \n",
    "# Twinkle, twinkle, little star, \n",
    " \n",
    "# How I wonder what you are\n",
    "\n",
    "a = \"TWinkle, twinkle, little star,\"\n",
    "b = \"How I wonder what you are!\"\n",
    "c = \"Up above the world so high,\"\n",
    "d = \"Like a diamond in the sky.\"\n",
    "print (a,'\\n\\t', b, '\\n\\t\\t', c, '\\n\\t\\t', d, '\\n', a , '\\n\\t', b)"
   ]
  },
  {
   "cell_type": "code",
   "execution_count": 8,
   "id": "931205de",
   "metadata": {},
   "outputs": [
    {
     "name": "stdout",
     "output_type": "stream",
     "text": [
      "Python Version is : \n",
      "\n",
      "3.8.8 (default, Apr 13 2021, 15:08:03) [MSC v.1916 64 bit (AMD64)]\n"
     ]
    }
   ],
   "source": [
    "# Question No. 2 :\n",
    "#     Write a Python program to get the Python version you are using\n",
    "\n",
    "import sys\n",
    "print (\"Python Version is : \\n\")\n",
    "print (sys.version)"
   ]
  },
  {
   "cell_type": "code",
   "execution_count": 9,
   "id": "a0302a87",
   "metadata": {},
   "outputs": [
    {
     "name": "stdout",
     "output_type": "stream",
     "text": [
      "Today is : yyyy-mm-dd hh:mm:ss.ssssss\n",
      "\t   2021-10-22 16:46:14.172842\n"
     ]
    }
   ],
   "source": [
    "# Question No. 3 :\n",
    "#     Write a Python program to display the current date and time.\n",
    "\n",
    "from datetime import datetime\n",
    "today = datetime.now()\n",
    "print (\"Today is : yyyy-mm-dd hh:mm:ss.ssssss\" '\\n\\t' \"  \", today)"
   ]
  },
  {
   "cell_type": "code",
   "execution_count": 10,
   "id": "315eab57",
   "metadata": {},
   "outputs": [
    {
     "name": "stdout",
     "output_type": "stream",
     "text": [
      "Enter Radius of Circle : 25\n",
      "Area of Circle :  1963.4954084936207\n"
     ]
    }
   ],
   "source": [
    "# Question No. 4 :\n",
    "#     Write a Python program which accepts the radius of a circle from the user and compute \n",
    "# the area. \n",
    "\n",
    "import math\n",
    "radius = float(input(\"Enter Radius of Circle : \"))\n",
    "area = math.pi * (radius ** 2)\n",
    "print (\"Area of Circle : \", area)"
   ]
  },
  {
   "cell_type": "code",
   "execution_count": 11,
   "id": "947a4ffe",
   "metadata": {},
   "outputs": [
    {
     "name": "stdout",
     "output_type": "stream",
     "text": [
      "Enter First Name :Ali Abbas\n",
      "Enter Last Name :Devjiani\n",
      "Your Name in reverse Order is :  Devjiani   Ali Abbas\n"
     ]
    }
   ],
   "source": [
    "# Question No. 5:\n",
    "#     Write a Python program which accepts the user's first and last name and print them in \n",
    "# reverse order with a space between them.\n",
    "\n",
    "First_Name = input(\"Enter First Name :\")\n",
    "Last_Name = input(\"Enter Last Name :\")\n",
    "print (\"Your Name in reverse Order is : \", Last_Name, \" \", First_Name)"
   ]
  },
  {
   "cell_type": "code",
   "execution_count": 12,
   "id": "1ac2a2c7",
   "metadata": {},
   "outputs": [
    {
     "name": "stdout",
     "output_type": "stream",
     "text": [
      "Code to display addition of two desired numbers\n",
      "Enter First Number :5\n",
      "Enter Second Number :15\n",
      "Sum of two given numbers 5.0  &  15.0  is : 20.0\n"
     ]
    }
   ],
   "source": [
    "# Question No. 6 :\n",
    "#     Write a python program which takes two inputs from user and print them addition\n",
    "\n",
    "print(\"Code to display addition of two desired numbers\")\n",
    "Fist_Number = float(input(\"Enter First Number :\"))\n",
    "Second_Number = float(input(\"Enter Second Number :\"))\n",
    "print(\"Sum of two given numbers\", Fist_Number, \" & \", Second_Number, \" is :\" , Fist_Number + Second_Number)"
   ]
  },
  {
   "cell_type": "code",
   "execution_count": 14,
   "id": "56136987",
   "metadata": {},
   "outputs": [
    {
     "name": "stdout",
     "output_type": "stream",
     "text": [
      "Enter your Name :Ali Abbas Devjiani\n",
      "Enter your Class :10\n",
      "Enter your Section :A\n",
      "\n",
      "\n",
      "\n",
      "Enter your Marks in Maths :\t\t98\n",
      "Enter your Marks in Urdu :\t\t95\n",
      "Enter your Marks in Computer Studies :\t97\n",
      "Enter your Marks in English :\t\t85\n",
      "Enter your Marks in Islamiat :\t\t89\n",
      "\n",
      "\n",
      "\n",
      "**************************************************************************\n",
      "Your Name is :\t\t\t Ali Abbas Devjiani\n",
      "Your Class is :\t\t\t 10\n",
      "Your Section is :\t\t A\n",
      "\n",
      "\n",
      "\n",
      "**************************************************************************\n",
      "                     ***** Marks Sheet *****\n",
      "**************************************************************************\n",
      "\n",
      "\n",
      "\n",
      "Your marks in Maths are :\t\t 98\n",
      "Your marks in Urdu are :\t\t 95\n",
      "Your marks in Computer Studies are :\t 97\n",
      "Your marks in English are :\t\t 85\n",
      "Your marks in Islamiat are :\t\t 89\n",
      "\n",
      "\n",
      "\n",
      "**************************************************************************\n",
      "You obtained Total Marks as :\t 464\n",
      "**************************************************************************\n",
      "\n",
      "\n",
      "\n",
      "**************************************************************************\n",
      "Your Percentage is :\t\t 92.80000000000001  %\n",
      "**************************************************************************\n",
      "\n",
      "\n",
      "\n",
      "**************************************************************************\n",
      "Your Grade is : A+\n",
      "**************************************************************************\n"
     ]
    }
   ],
   "source": [
    "# Question No. 7 :\n",
    "#     Write a program which takes 5 inputs from user for different subject’s marks, total it \n",
    "# and generate mark sheet using grades ?\n",
    "\n",
    "name = input(\"Enter your Name :\")\n",
    "study_in = int(input(\"Enter your Class :\"))\n",
    "section = input(\"Enter your Section :\")\n",
    "print('\\n\\n')\n",
    "\n",
    "mth_marks = int(input(\"Enter your Marks in Maths :\"'\\t''\\t'))\n",
    "urdu_marks = int(input(\"Enter your Marks in Urdu :\"'\\t''\\t'))\n",
    "computer_marks = int(input(\"Enter your Marks in Computer Studies :\"'\\t'))\n",
    "eng_marks = int(input(\"Enter your Marks in English :\"'\\t''\\t'))\n",
    "islam_marks = int(input(\"Enter your Marks in Islamiat :\"'\\t''\\t'))\n",
    "total_marks = (mth_marks+urdu_marks+computer_marks+eng_marks+islam_marks)\n",
    "per = (total_marks/500*100)\n",
    "\n",
    "print('\\n''\\n')\n",
    "print(\"**************************************************************************\")\n",
    "print (\"Your Name is :\"'\\t\\t\\t',name)\n",
    "print (\"Your Class is :\"'\\t\\t\\t',study_in)\n",
    "print (\"Your Section is :\"'\\t\\t',section)\n",
    "print('\\n''\\n')\n",
    "print(\"**************************************************************************\")\n",
    "print(\"                     ***** \"+\"Marks Sheet\"+\" *****\")\n",
    "print(\"**************************************************************************\")\n",
    "print('\\n''\\n')\n",
    "print(\"Your marks in Maths are :\"'\\t''\\t',mth_marks)\n",
    "print(\"Your marks in Urdu are :\"'\\t''\\t',urdu_marks)\n",
    "print(\"Your marks in Computer Studies are :\"'\\t',computer_marks)\n",
    "print(\"Your marks in English are :\"'\\t''\\t',eng_marks)\n",
    "print(\"Your marks in Islamiat are :\"'\\t''\\t',islam_marks)\n",
    "print('\\n''\\n')\n",
    "print(\"**************************************************************************\")\n",
    "print(\"You obtained Total Marks as :\"'\\t', total_marks)\n",
    "print(\"**************************************************************************\")\n",
    "print('\\n''\\n')\n",
    "print(\"**************************************************************************\")\n",
    "print(\"Your Percentage is :\"'\\t''\\t',per,\" %\")\n",
    "print(\"**************************************************************************\")\n",
    "print('\\n''\\n')\n",
    "print(\"**************************************************************************\")\n",
    "\n",
    "if per >= 80 and per < 100:\n",
    "    print (\"Your Grade is : A+\")\n",
    "elif per >= 70 and per < 80:\n",
    "    print (\"Your Grade is : A\")\n",
    "elif per >= 60 and per < 70:\n",
    "    print (\"Your Grade is : B\")\n",
    "elif per >= 50 and per < 60:\n",
    "    print (\"Your Grade is : C\")\n",
    "elif per >= 40 and per < 50:\n",
    "    print (\"Your Grade is : D\")\n",
    "elif per >= 33 and per < 40:\n",
    "    print (\"Your Grade is : E\")\n",
    "elif per >= 0 and per < 33:\n",
    "    print (\"Your Grade is : FAIL\")\n",
    "else:\n",
    "    print (\"You have provided an invalid input\")\n",
    "    \n",
    "print(\"**************************************************************************\")"
   ]
  },
  {
   "cell_type": "code",
   "execution_count": 15,
   "id": "0cb5ce05",
   "metadata": {},
   "outputs": [
    {
     "name": "stdout",
     "output_type": "stream",
     "text": [
      "Enter a Number : 5\n",
      "The given Number is an Odd Number\n"
     ]
    }
   ],
   "source": [
    "# Question No. 8 :\n",
    "#     Write a program which take input from user and identify that the given number is even \n",
    "# or odd? \n",
    "\n",
    "a=int(input(\"Enter a Number : \"))\n",
    "if a%2 == 0:\n",
    "  print(\"The given Number is an Even Number\")\n",
    "else:\n",
    "  print(\"The given Number is an Odd Number\")"
   ]
  },
  {
   "cell_type": "code",
   "execution_count": 16,
   "id": "0550d8ae",
   "metadata": {},
   "outputs": [
    {
     "name": "stdout",
     "output_type": "stream",
     "text": [
      "Length of the given list is :  11\n"
     ]
    }
   ],
   "source": [
    "# Question No. 9 :\n",
    "#     Write a program which print the length of the list? \n",
    "\n",
    "List = [1, 1, 2, 3, 5, 8, 13, 21, 34, 55, 89]\n",
    "print(\"Length of the given list is : \",len(List))"
   ]
  },
  {
   "cell_type": "code",
   "execution_count": 18,
   "id": "023c4b3c",
   "metadata": {},
   "outputs": [
    {
     "name": "stdout",
     "output_type": "stream",
     "text": [
      "Sum of all Numbers is :  178\n"
     ]
    }
   ],
   "source": [
    "# Question No. 10 :\n",
    "#     Write a Python program to sum all the numeric items in a list?\n",
    "\n",
    "number_list = [1, 1, 2, 3, 4, 8, 13, 21, 34, 55, 89]\n",
    "for i in range(0,len(number_list)):\n",
    "  sum = number_list[i] + number_list[i]\n",
    "print(\"Sum of all Numbers is : \",sum)"
   ]
  },
  {
   "cell_type": "code",
   "execution_count": 19,
   "id": "4b41775b",
   "metadata": {},
   "outputs": [
    {
     "name": "stdout",
     "output_type": "stream",
     "text": [
      "Largest Number in the provided list is : 89\n"
     ]
    }
   ],
   "source": [
    "# Question No. 11 :\n",
    "#     Write a Python program to get the largest number from a numeric list.\n",
    "\n",
    "a = [1, 1, 2, 3, 5, 8, 13, 21, 34, 55, 89]\n",
    "print(\"Largest Number in the provided list is :\", max(a))"
   ]
  },
  {
   "cell_type": "code",
   "execution_count": 20,
   "id": "d27ea1f7",
   "metadata": {},
   "outputs": [
    {
     "name": "stdout",
     "output_type": "stream",
     "text": [
      "1\n",
      "1\n",
      "2\n",
      "3\n"
     ]
    }
   ],
   "source": [
    "# Question No. 12 :\n",
    "#     Take a list, say for example this one: \n",
    " \n",
    "# a = [1, 1, 2, 3, 5, 8, 13, 21, 34, 55, 89] \n",
    "#  Write a program that prints out all the elements of the list that are less than 5. \n",
    "\n",
    "a = [1, 1, 2, 3, 5, 8, 13, 21, 34, 55, 89]\n",
    "for i in range(10):\n",
    " if a[i]<5:\n",
    "  print(a[i])"
   ]
  },
  {
   "cell_type": "code",
   "execution_count": null,
   "id": "378152ac",
   "metadata": {},
   "outputs": [],
   "source": []
  }
 ],
 "metadata": {
  "kernelspec": {
   "display_name": "Python 3",
   "language": "python",
   "name": "python3"
  },
  "language_info": {
   "codemirror_mode": {
    "name": "ipython",
    "version": 3
   },
   "file_extension": ".py",
   "mimetype": "text/x-python",
   "name": "python",
   "nbconvert_exporter": "python",
   "pygments_lexer": "ipython3",
   "version": "3.8.8"
  }
 },
 "nbformat": 4,
 "nbformat_minor": 5
}
