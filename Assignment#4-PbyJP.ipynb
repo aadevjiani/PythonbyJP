{
 "cells": [
  {
   "cell_type": "code",
   "execution_count": 1,
   "metadata": {},
   "outputs": [
    {
     "name": "stdout",
     "output_type": "stream",
     "text": [
      "*****************************************************\n",
      "----------- WELCOME TO SIMPLE CALCULATOR ------------\n",
      "*****************************************************\n",
      "Enter First Number : 5\n",
      "Enter Operator : *\n",
      "Enter Second Number : 9\n",
      "Multiplication of  5  &  9  =  45\n"
     ]
    }
   ],
   "source": [
    "# Assignment No. 4\n",
    "# Solution to Question NO. 1\n",
    "# Make a calculator using Python with addition, subtraction, multiplication, division and power\n",
    "\n",
    "print(\"*****************************************************\")\n",
    "print(\"----------- WELCOME TO SIMPLE CALCULATOR ------------\")\n",
    "print(\"*****************************************************\")\n",
    "\n",
    "num1 = int(input(\"Enter First Number : \"))\n",
    "operator = input(\"Enter Operator : \")\n",
    "num2 = int(input(\"Enter Second Number : \"))\n",
    "\n",
    "if operator == '+':\n",
    "    answer = num1 + num2\n",
    "    print(\"Addition of \",num1,\" & \",num2,\" = \", answer)\n",
    "elif operator == '-':\n",
    "    answer = num1 - num2\n",
    "    print(\"Subtraction of \",num1,\" & \",num2,\" = \", answer)\n",
    "elif operator == '*':\n",
    "    answer = num1 * num2\n",
    "    print(\"Multiplication of \",num1,\" & \",num2,\" = \", answer)\n",
    "elif operator == '/':\n",
    "    answer = num1 / num2\n",
    "    print(\"Division of \",num1,\" & \",num2,\" = \", answer)\n",
    "elif operator == '**':\n",
    "    answer = num1 ** num2\n",
    "    print(\"Power of \",num1, \" having exponent\",num2,\" = \", answer)"
   ]
  },
  {
   "cell_type": "code",
   "execution_count": 2,
   "metadata": {},
   "outputs": [
    {
     "name": "stdout",
     "output_type": "stream",
     "text": [
      "Ali \t : \t is not a numeric Value in List\n",
      "25 \t : \t is a numeric Value in List\n",
      "Abbas \t : \t is not a numeric Value in List\n",
      "57.2 \t : \t is a numeric Value in List\n",
      "True \t : \t is not a numeric Value in List\n",
      "Mughal \t : \t is not a numeric Value in List\n",
      "105 \t : \t is a numeric Value in List\n",
      "SMIT \t : \t is not a numeric Value in List\n"
     ]
    }
   ],
   "source": [
    "# Assignment No. 3\n",
    "# Solution to Question NO. 2\n",
    "# Write a program to check if there is any numeric value in list using for loop\n",
    "\n",
    "list = ['Ali',25,'Abbas',57.2,True,'Mughal',105,'SMIT']\n",
    "for i in list:\n",
    "    if type(i) == int:\n",
    "        print(i,\"\\t : \\t is a numeric Value in List\")\n",
    "    elif type(i) == float:\n",
    "        print(i,\"\\t : \\t is a numeric Value in List\")\n",
    "    else:\n",
    "        print(i,\"\\t : \\t is not a numeric Value in List\")"
   ]
  },
  {
   "cell_type": "code",
   "execution_count": 3,
   "metadata": {},
   "outputs": [
    {
     "name": "stdout",
     "output_type": "stream",
     "text": [
      "Enter Key : first_name\n",
      "Enter Value : ali\n",
      "{'first_name': 'ali'}\n"
     ]
    }
   ],
   "source": [
    "# Assignment No. 3\n",
    "# Solution to Question NO. 3\n",
    "# Write a Python script to add a key to a dictionary\n",
    "\n",
    "dic = {}\n",
    "newkey = input(\"Enter Key : \")\n",
    "newvalue = input(\"Enter Value : \")\n",
    "dic.update({newkey:newvalue})\n",
    "\n",
    "print(dic)"
   ]
  },
  {
   "cell_type": "code",
   "execution_count": 4,
   "metadata": {},
   "outputs": [
    {
     "name": "stdout",
     "output_type": "stream",
     "text": [
      "Sum of all Numeric Values in Dictionary is : 215\n"
     ]
    }
   ],
   "source": [
    "# Assignment No. 3\n",
    "# Solution to Question NO. 4\n",
    "# Write a Python program to sum all the numeric items in a dictionary\n",
    "\n",
    "dic = {\n",
    "    'First_Number' : 20,\n",
    "    'First_Name':'Ali',\n",
    "    'Second_Number' : 25,\n",
    "    'Second_Name':'Abbas',\n",
    "    'Third_Number' : 14,\n",
    "    'Third_Name' : 'Devjiani',\n",
    "    'Fourth_Number': 56,\n",
    "    'Fifth_Number' : 100,\n",
    "}\n",
    "\n",
    "sum = 0\n",
    "\n",
    "for i in dic.values():\n",
    "    if type(i) == int:\n",
    "        sum +=i\n",
    "\n",
    "print(\"Sum of all Numeric Values in Dictionary is :\" , sum)"
   ]
  },
  {
   "cell_type": "code",
   "execution_count": 5,
   "metadata": {},
   "outputs": [
    {
     "name": "stdout",
     "output_type": "stream",
     "text": [
      "Duplicate values from list are :  [0, 5, 25, 30]\n"
     ]
    }
   ],
   "source": [
    "# Assignment No. 3\n",
    "# Solution to Question NO. 5\n",
    "# Write a program to identify duplicate values from list\n",
    "\n",
    "list = [0,5,25,7,5,0,28,25,30,40,45,50,30]\n",
    "list_range = len(list)\n",
    "duplicate = []\n",
    "for i in range (list_range):\n",
    "    a = i + 1\n",
    "    for b in range(a, list_range):\n",
    "        if list[i] == list[b] and list[i] not in duplicate:\n",
    "            duplicate.append(list[i])\n",
    "print(\"Duplicate values from list are : \" , duplicate)\n"
   ]
  },
  {
   "cell_type": "code",
   "execution_count": 6,
   "metadata": {},
   "outputs": [
    {
     "name": "stdout",
     "output_type": "stream",
     "text": [
      "Enter Key Name to Check whether it exist or not in Dictionary : Third_Number\n",
      "Given Key exist in dictionary\n"
     ]
    }
   ],
   "source": [
    "# Assignment No. 3\n",
    "# Solution to Question NO. 6\n",
    "# Write a Python script to check if a given key already exists in a dictionary\n",
    "\n",
    "dic = {\n",
    "    'First_Number' : 20,\n",
    "    'First_Name':'Ali',\n",
    "    'Second_Number' : 25,\n",
    "    'Second_Name':'Abbas',\n",
    "    'Third_Number' : 14,\n",
    "    'Third_Name' : 'Devjiani',\n",
    "    'Fourth_Number': 56,\n",
    "    'Fifth_Number' : 100,\n",
    "}\n",
    "checker = input(\"Enter Key Name to Check whether it exist or not in Dictionary : \")\n",
    "result = False\n",
    "for i in dic.keys():\n",
    "    if i == checker:\n",
    "        result = True\n",
    "        break\n",
    "\n",
    "if result==True:\n",
    "    print(\"Given Key exist in dictionary\")\n",
    "else:\n",
    "    print(\"Given Key does not exist in dictionary\")"
   ]
  },
  {
   "cell_type": "code",
   "execution_count": null,
   "metadata": {},
   "outputs": [],
   "source": []
  }
 ],
 "metadata": {
  "kernelspec": {
   "display_name": "Python 3",
   "language": "python",
   "name": "python3"
  },
  "language_info": {
   "codemirror_mode": {
    "name": "ipython",
    "version": 3
   },
   "file_extension": ".py",
   "mimetype": "text/x-python",
   "name": "python",
   "nbconvert_exporter": "python",
   "pygments_lexer": "ipython3",
   "version": "3.8.8"
  }
 },
 "nbformat": 4,
 "nbformat_minor": 2
}
